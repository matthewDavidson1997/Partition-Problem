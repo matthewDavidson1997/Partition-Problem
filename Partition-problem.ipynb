{
 "cells": [
  {
   "cell_type": "markdown",
   "metadata": {},
   "source": [
    "# Partition problem\n",
    "### Introduction\n",
    "The background to the partition problem is described in **MOD007357 Coursework Brief 2021-22 (Task C)**, including the description of six simple splitting approaches (labelled A-F).\n",
    "\n",
    "### Implementation summary\n",
    "The splitting algorithms have been implemented in the *python* programming language, and can be conveniently applied to an input array (*multiset*) by initialising an `ArraySplitter` class with the array, and calling the class' `split()` method - providing a string key for the required method.\n",
    "\n",
    "The described methods A-F have been extended with method 'G' - an implementation of the KK splitting algorithm<sup>1</sup>.\n",
    "\n",
    "### ZIP archive\n",
    "The code and output of running the `main()` method can be found in the associated ZIP archive (`partition-problem.zip`).  Contents:\n",
    "\n",
    "```\n",
    "partition-problem.zip\n",
    "  - Partition problem.html\n",
    "  - Partition problem.ipynb\n",
    "  - partition_problem.py\n",
    "  - README.md\n",
    "  - environment.yml\n",
    "  results/\n",
    "    - comparison_pandas.png\n",
    "    - comparison_seaborn.png\n",
    "    - testing_df.csv\n",
    "    - walkthrough_examples.txt\n",
    "```\n",
    "\n",
    "### Dependencies\n",
    "The `conda` environment required to run the `partition_problem.py` code, and this notebook, can be recreated from the *environment.yml* file in the ZIP archive, and activated as follows:\n",
    "\n",
    "```bash\n",
    "conda env create -f environment.yml\n",
    "conda activate partition-problem\n",
    "```\n",
    "\n",
    "We can use a jupyter 'magic' command to generate the *environment.yml* file."
   ]
  },
  {
   "cell_type": "code",
   "execution_count": 1,
   "metadata": {},
   "outputs": [],
   "source": [
    "!conda env export --from-history > environment.yml"
   ]
  },
  {
   "cell_type": "markdown",
   "metadata": {},
   "source": [
    "### Notebook\n",
    "This notebook was created within the same python `conda` environment used to run the `partition_problem.py`.\n",
    "\n",
    "To generate the PDF version, the notebook was exported to HTML format and then printed to PDF format from Google Chrome."
   ]
  },
  {
   "cell_type": "markdown",
   "metadata": {},
   "source": [
    "### Imports"
   ]
  },
  {
   "cell_type": "code",
   "execution_count": 2,
   "metadata": {},
   "outputs": [],
   "source": [
    "import pandas as pd\n",
    "from matplotlib import pyplot as plt\n",
    "import seaborn as sns\n",
    "\n",
    "from partition_problem import ArraySplitter\n",
    "from partition_problem import generate_random_array, run_tests, seaborn_plot, pandas_plot\n",
    "\n",
    "pd.set_option('display.max_rows', 10)  # Keep table displays short\n",
    "sns.set_context('talk')  # Make seaborn plots have good font sizes, line widths, etc "
   ]
  },
  {
   "cell_type": "markdown",
   "metadata": {},
   "source": [
    "### Split method G - the Karmarkar-Karp heuristic (KK)\n",
    "The KK method - described in section 2.3 of [1] - was implemented as an additional method of the `ArraySplitter` class, and is reproduced below for reference."
   ]
  },
  {
   "cell_type": "code",
   "execution_count": 3,
   "metadata": {},
   "outputs": [],
   "source": [
    "# Approach G - time complexity O(nlogn)\n",
    "def _split_kk(self, array):\n",
    "    \"\"\"Sorts high to low, then removes the first two members of the array.\n",
    "    The 2nd value is subtracted from the first value, and the difference is appended to the \n",
    "    end of the list. The list is then resorted, and the process is repeated until the list \n",
    "    length is 1.\n",
    "\n",
    "    Finally the list is passed back as s1_, and an empty list is passed back as s2_.\n",
    "    This is a different approach to the other algorithms, hence the different variable \n",
    "    naming for clarity.\n",
    "\n",
    "    Passing back the two lists allows downstream calculation of the absolute subset sum \n",
    "    difference (even though we already know the answer)\n",
    "    \"\"\"\n",
    "    s1_ = []\n",
    "    s2_ = []\n",
    "\n",
    "    reverse_sorted_array = sorted(array, reverse=True)  # O(nlogn)\n",
    "    while len(reverse_sorted_array) > 1:  # O(n)\n",
    "        elem_0 = reverse_sorted_array.pop(0)\n",
    "        elem_1 = reverse_sorted_array.pop(0)\n",
    "        reverse_sorted_array.append(elem_0 - elem_1)\n",
    "        reverse_sorted_array.sort(reverse=True)  # O(nlogn)\n",
    "    # We know the difference at this point, but we are not using or returning it\n",
    "    s1_ = reverse_sorted_array\n",
    "    return s1_, s2_"
   ]
  },
  {
   "cell_type": "markdown",
   "metadata": {},
   "source": [
    "### Walkthrough examples\n",
    "The splitting applied by each method can be seen below for a single input array of cardinality 32."
   ]
  },
  {
   "cell_type": "markdown",
   "metadata": {},
   "source": [
    "#### Generate the array"
   ]
  },
  {
   "cell_type": "code",
   "execution_count": 4,
   "metadata": {},
   "outputs": [
    {
     "name": "stdout",
     "output_type": "stream",
     "text": [
      "[147, 218, 164, 206, 7, 90, 169, 295, 290, 26, 194, 166, 106, 91, 77, 141, 310, 300, 147, 132, 281, 236, 103, 318, 74, 317, 78, 131, 115, 163, 320, 234]\n"
     ]
    }
   ],
   "source": [
    "array = generate_random_array(min_val=1, max_val=320, cardinality=32)\n",
    "print(array)"
   ]
  },
  {
   "cell_type": "markdown",
   "metadata": {},
   "source": [
    "#### Apply each splitting method in turn"
   ]
  },
  {
   "cell_type": "code",
   "execution_count": 5,
   "metadata": {},
   "outputs": [
    {
     "name": "stdout",
     "output_type": "stream",
     "text": [
      "Method: A\n",
      "Time complexity: O(n)\n",
      "  Subset 1: [147, 218, 164, 206, 7, 90, 169, 295, 290, 26, 194, 166, 106, 91, 77, 141]\n",
      "  Subset 2: [310, 300, 147, 132, 281, 236, 103, 318, 74, 317, 78, 131, 115, 163, 320, 234]\n",
      "  Absolute partition difference: 872\n",
      "\n",
      "Method: B\n",
      "Time complexity: O(n)\n",
      "  Subset 1: [218, 164, 206, 90, 290, 26, 194, 166, 106, 310, 300, 132, 236, 318, 74, 78, 320, 234]\n",
      "  Subset 2: [147, 7, 169, 295, 91, 77, 141, 147, 281, 103, 317, 131, 115, 163]\n",
      "  Absolute partition difference: 1278\n",
      "\n",
      "Method: C\n",
      "Time complexity: O(n)\n",
      "  Subset 1: [147, 164, 7, 90, 169, 290, 166, 91, 310, 147, 281, 103, 74, 317, 115, 320]\n",
      "  Subset 2: [218, 206, 295, 26, 194, 106, 77, 141, 300, 132, 236, 318, 78, 131, 163, 234]\n",
      "  Absolute partition difference: 64\n",
      "\n",
      "Method: D\n",
      "Time complexity: O(n)\n",
      "  Subset 1: [218, 290, 310, 281, 318, 320, 147, 7, 90, 26, 166, 91, 141, 132, 74, 131]\n",
      "  Subset 2: [206, 295, 194, 300, 236, 317, 234, 164, 169, 106, 77, 147, 103, 78, 115, 163]\n",
      "  Absolute partition difference: 162\n",
      "\n",
      "Method: E\n",
      "Time complexity: O(nlogn)\n",
      "  Subset 1: [320, 317, 300, 290, 236, 218, 194, 166, 163, 147, 132, 115, 103, 90, 77, 26]\n",
      "  Subset 2: [318, 310, 295, 281, 234, 206, 169, 164, 147, 141, 131, 106, 91, 78, 74, 7]\n",
      "  Absolute partition difference: 142\n",
      "\n",
      "Method: F\n",
      "Time complexity: O(nlogn)\n",
      "  Subset 1: [320, 310, 300, 290, 234, 206, 194, 164, 147, 141, 132, 115, 91, 90, 74, 7]\n",
      "  Subset 2: [318, 317, 295, 281, 236, 218, 169, 166, 163, 147, 131, 106, 103, 78, 77, 26]\n",
      "  Absolute partition difference: 16\n",
      "\n",
      "Method: G\n",
      "Time complexity: O(nlogn)\n",
      "  Subset 1: [0]\n",
      "  Subset 2: []\n",
      "  Absolute partition difference: 0\n",
      "\n"
     ]
    }
   ],
   "source": [
    "splitter = ArraySplitter(array)\n",
    "results = splitter.compare_methods(verbose=True)"
   ]
  },
  {
   "cell_type": "markdown",
   "metadata": {},
   "source": [
    "### Input parameters\n",
    "The parameters below can be varied and will control the subsequent code blocks.  These are the same parameters accepted by the `main()` function of `partition_problem.py`."
   ]
  },
  {
   "cell_type": "code",
   "execution_count": 6,
   "metadata": {},
   "outputs": [],
   "source": [
    "CARDINALITIES = [32, 64, 128, 256, 512, 1024]\n",
    "REPEATS = 10000\n",
    "MIN_ARRAY_VAL = 1\n",
    "MAX_VAL_FACTOR = 10"
   ]
  },
  {
   "cell_type": "markdown",
   "metadata": {},
   "source": [
    "### Running tests\n",
    "For each *cardinality* value we will run *number_of_tests* tests.\n",
    "\n",
    "Each test involves the following steps:\n",
    "1. Make a new random array\n",
    "2. Make an `ArraySplitter` instance for the random array\n",
    "3. Use the ArraySplitter's `compare_methods()` function to get the absolute difference of the subset sums for each different split method\n",
    "4. Add the results from the iteration to a list that keeps track of all of the results"
   ]
  },
  {
   "cell_type": "code",
   "execution_count": 7,
   "metadata": {},
   "outputs": [],
   "source": [
    "testing_results = []  # a list to keep each iteration's results in\n",
    "for cardinality in CARDINALITIES:  # iterate over cardinalities\n",
    "    for test in range(REPEATS):  # then iterate over n tests (eg 100)\n",
    "        # 1. Make a new random array\n",
    "        array = generate_random_array(min_val=MIN_ARRAY_VAL,\n",
    "                                      max_val=MAX_VAL_FACTOR * cardinality,\n",
    "                                      cardinality=cardinality)\n",
    "        # 2. Use an ArraySplitter to get the results for each available split method\n",
    "        splitter = ArraySplitter(array)\n",
    "        results = splitter.compare_methods()\n",
    "        # 3. Add the cardinality info to the result\n",
    "        results['cardinality'] = cardinality\n",
    "        # 4. add the result to the testing_results list\n",
    "        testing_results.append(results)"
   ]
  },
  {
   "cell_type": "markdown",
   "metadata": {},
   "source": [
    "In `partition_problem.py` the above steps can be conveniently run by simply calling the `run_tests()` method.\n",
    "\n",
    "```python\n",
    "testing_results = run_tests(cardinalities=CARDINALITIES, repeats=REPEATS,\n",
    "                            min_array_val=MIN_ARRAY_VAL, max_val_factor=MAX_VAL_FACTOR)\n",
    "```"
   ]
  },
  {
   "cell_type": "markdown",
   "metadata": {},
   "source": [
    "An example result in the list (showing the dictionary structure):"
   ]
  },
  {
   "cell_type": "code",
   "execution_count": 8,
   "metadata": {},
   "outputs": [
    {
     "data": {
      "text/plain": [
       "{'A': 195,\n",
       " 'B': 249,\n",
       " 'C': 115,\n",
       " 'D': 139,\n",
       " 'E': 153,\n",
       " 'F': 21,\n",
       " 'G': 1,\n",
       " 'cardinality': 32}"
      ]
     },
     "execution_count": 8,
     "metadata": {},
     "output_type": "execute_result"
    }
   ],
   "source": [
    "testing_results[0]"
   ]
  },
  {
   "cell_type": "markdown",
   "metadata": {},
   "source": [
    "If we convert the whole `testing_results` list of dictionaries into a DataFrame, we get the following shape."
   ]
  },
  {
   "cell_type": "code",
   "execution_count": 9,
   "metadata": {},
   "outputs": [
    {
     "data": {
      "text/html": [
       "<div>\n",
       "<style scoped>\n",
       "    .dataframe tbody tr th:only-of-type {\n",
       "        vertical-align: middle;\n",
       "    }\n",
       "\n",
       "    .dataframe tbody tr th {\n",
       "        vertical-align: top;\n",
       "    }\n",
       "\n",
       "    .dataframe thead th {\n",
       "        text-align: right;\n",
       "    }\n",
       "</style>\n",
       "<table border=\"1\" class=\"dataframe\">\n",
       "  <thead>\n",
       "    <tr style=\"text-align: right;\">\n",
       "      <th></th>\n",
       "      <th>A</th>\n",
       "      <th>B</th>\n",
       "      <th>C</th>\n",
       "      <th>D</th>\n",
       "      <th>E</th>\n",
       "      <th>F</th>\n",
       "      <th>G</th>\n",
       "      <th>cardinality</th>\n",
       "    </tr>\n",
       "  </thead>\n",
       "  <tbody>\n",
       "    <tr>\n",
       "      <th>0</th>\n",
       "      <td>195</td>\n",
       "      <td>249</td>\n",
       "      <td>115</td>\n",
       "      <td>139</td>\n",
       "      <td>153</td>\n",
       "      <td>21</td>\n",
       "      <td>1</td>\n",
       "      <td>32</td>\n",
       "    </tr>\n",
       "    <tr>\n",
       "      <th>1</th>\n",
       "      <td>90</td>\n",
       "      <td>1914</td>\n",
       "      <td>286</td>\n",
       "      <td>42</td>\n",
       "      <td>220</td>\n",
       "      <td>4</td>\n",
       "      <td>0</td>\n",
       "      <td>32</td>\n",
       "    </tr>\n",
       "    <tr>\n",
       "      <th>2</th>\n",
       "      <td>463</td>\n",
       "      <td>1405</td>\n",
       "      <td>207</td>\n",
       "      <td>7</td>\n",
       "      <td>201</td>\n",
       "      <td>3</td>\n",
       "      <td>1</td>\n",
       "      <td>32</td>\n",
       "    </tr>\n",
       "    <tr>\n",
       "      <th>3</th>\n",
       "      <td>322</td>\n",
       "      <td>1444</td>\n",
       "      <td>20</td>\n",
       "      <td>94</td>\n",
       "      <td>196</td>\n",
       "      <td>2</td>\n",
       "      <td>0</td>\n",
       "      <td>32</td>\n",
       "    </tr>\n",
       "    <tr>\n",
       "      <th>4</th>\n",
       "      <td>227</td>\n",
       "      <td>277</td>\n",
       "      <td>107</td>\n",
       "      <td>69</td>\n",
       "      <td>133</td>\n",
       "      <td>5</td>\n",
       "      <td>1</td>\n",
       "      <td>32</td>\n",
       "    </tr>\n",
       "    <tr>\n",
       "      <th>...</th>\n",
       "      <td>...</td>\n",
       "      <td>...</td>\n",
       "      <td>...</td>\n",
       "      <td>...</td>\n",
       "      <td>...</td>\n",
       "      <td>...</td>\n",
       "      <td>...</td>\n",
       "      <td>...</td>\n",
       "    </tr>\n",
       "    <tr>\n",
       "      <th>59995</th>\n",
       "      <td>202326</td>\n",
       "      <td>142858</td>\n",
       "      <td>1382</td>\n",
       "      <td>88</td>\n",
       "      <td>5142</td>\n",
       "      <td>20</td>\n",
       "      <td>0</td>\n",
       "      <td>1024</td>\n",
       "    </tr>\n",
       "    <tr>\n",
       "      <th>59996</th>\n",
       "      <td>16631</td>\n",
       "      <td>56079</td>\n",
       "      <td>5151</td>\n",
       "      <td>4215</td>\n",
       "      <td>5515</td>\n",
       "      <td>25</td>\n",
       "      <td>1</td>\n",
       "      <td>1024</td>\n",
       "    </tr>\n",
       "    <tr>\n",
       "      <th>59997</th>\n",
       "      <td>188464</td>\n",
       "      <td>243190</td>\n",
       "      <td>5762</td>\n",
       "      <td>30</td>\n",
       "      <td>5094</td>\n",
       "      <td>12</td>\n",
       "      <td>0</td>\n",
       "      <td>1024</td>\n",
       "    </tr>\n",
       "    <tr>\n",
       "      <th>59998</th>\n",
       "      <td>23092</td>\n",
       "      <td>12468</td>\n",
       "      <td>3900</td>\n",
       "      <td>2384</td>\n",
       "      <td>4818</td>\n",
       "      <td>10</td>\n",
       "      <td>0</td>\n",
       "      <td>1024</td>\n",
       "    </tr>\n",
       "    <tr>\n",
       "      <th>59999</th>\n",
       "      <td>181439</td>\n",
       "      <td>116555</td>\n",
       "      <td>3389</td>\n",
       "      <td>2041</td>\n",
       "      <td>5261</td>\n",
       "      <td>11</td>\n",
       "      <td>1</td>\n",
       "      <td>1024</td>\n",
       "    </tr>\n",
       "  </tbody>\n",
       "</table>\n",
       "<p>60000 rows × 8 columns</p>\n",
       "</div>"
      ],
      "text/plain": [
       "            A       B     C     D     E   F  G  cardinality\n",
       "0         195     249   115   139   153  21  1           32\n",
       "1          90    1914   286    42   220   4  0           32\n",
       "2         463    1405   207     7   201   3  1           32\n",
       "3         322    1444    20    94   196   2  0           32\n",
       "4         227     277   107    69   133   5  1           32\n",
       "...       ...     ...   ...   ...   ...  .. ..          ...\n",
       "59995  202326  142858  1382    88  5142  20  0         1024\n",
       "59996   16631   56079  5151  4215  5515  25  1         1024\n",
       "59997  188464  243190  5762    30  5094  12  0         1024\n",
       "59998   23092   12468  3900  2384  4818  10  0         1024\n",
       "59999  181439  116555  3389  2041  5261  11  1         1024\n",
       "\n",
       "[60000 rows x 8 columns]"
      ]
     },
     "execution_count": 9,
     "metadata": {},
     "output_type": "execute_result"
    }
   ],
   "source": [
    "testing_df = pd.DataFrame(testing_results)\n",
    "testing_df"
   ]
  },
  {
   "cell_type": "markdown",
   "metadata": {},
   "source": [
    "### Plotting with Seaborn\n",
    "The above shape of the data is convenient for readability, but not so good for certain plotting approaches.  The `seaborn` package makes plotting data (including data from a `pandas.DataFrame`) easy, but it is best to provide the data in a \"tall, skinny\" format."
   ]
  },
  {
   "cell_type": "markdown",
   "metadata": {},
   "source": [
    "#### Convert raw results into tall-skinny DataFrame\n",
    "The raw data can be unpivotted using `pandas.melt()`.  This gives us the tall, skinny version of the output data where each method appears not as a column, but as a value in a single 'method' column."
   ]
  },
  {
   "cell_type": "code",
   "execution_count": 10,
   "metadata": {},
   "outputs": [
    {
     "data": {
      "text/html": [
       "<div>\n",
       "<style scoped>\n",
       "    .dataframe tbody tr th:only-of-type {\n",
       "        vertical-align: middle;\n",
       "    }\n",
       "\n",
       "    .dataframe tbody tr th {\n",
       "        vertical-align: top;\n",
       "    }\n",
       "\n",
       "    .dataframe thead th {\n",
       "        text-align: right;\n",
       "    }\n",
       "</style>\n",
       "<table border=\"1\" class=\"dataframe\">\n",
       "  <thead>\n",
       "    <tr style=\"text-align: right;\">\n",
       "      <th></th>\n",
       "      <th>cardinality</th>\n",
       "      <th>method</th>\n",
       "      <th>absolute_diff</th>\n",
       "    </tr>\n",
       "  </thead>\n",
       "  <tbody>\n",
       "    <tr>\n",
       "      <th>0</th>\n",
       "      <td>32</td>\n",
       "      <td>A</td>\n",
       "      <td>195</td>\n",
       "    </tr>\n",
       "    <tr>\n",
       "      <th>1</th>\n",
       "      <td>32</td>\n",
       "      <td>A</td>\n",
       "      <td>90</td>\n",
       "    </tr>\n",
       "    <tr>\n",
       "      <th>2</th>\n",
       "      <td>32</td>\n",
       "      <td>A</td>\n",
       "      <td>463</td>\n",
       "    </tr>\n",
       "    <tr>\n",
       "      <th>3</th>\n",
       "      <td>32</td>\n",
       "      <td>A</td>\n",
       "      <td>322</td>\n",
       "    </tr>\n",
       "    <tr>\n",
       "      <th>4</th>\n",
       "      <td>32</td>\n",
       "      <td>A</td>\n",
       "      <td>227</td>\n",
       "    </tr>\n",
       "    <tr>\n",
       "      <th>...</th>\n",
       "      <td>...</td>\n",
       "      <td>...</td>\n",
       "      <td>...</td>\n",
       "    </tr>\n",
       "    <tr>\n",
       "      <th>419995</th>\n",
       "      <td>1024</td>\n",
       "      <td>G</td>\n",
       "      <td>0</td>\n",
       "    </tr>\n",
       "    <tr>\n",
       "      <th>419996</th>\n",
       "      <td>1024</td>\n",
       "      <td>G</td>\n",
       "      <td>1</td>\n",
       "    </tr>\n",
       "    <tr>\n",
       "      <th>419997</th>\n",
       "      <td>1024</td>\n",
       "      <td>G</td>\n",
       "      <td>0</td>\n",
       "    </tr>\n",
       "    <tr>\n",
       "      <th>419998</th>\n",
       "      <td>1024</td>\n",
       "      <td>G</td>\n",
       "      <td>0</td>\n",
       "    </tr>\n",
       "    <tr>\n",
       "      <th>419999</th>\n",
       "      <td>1024</td>\n",
       "      <td>G</td>\n",
       "      <td>1</td>\n",
       "    </tr>\n",
       "  </tbody>\n",
       "</table>\n",
       "<p>420000 rows × 3 columns</p>\n",
       "</div>"
      ],
      "text/plain": [
       "        cardinality method  absolute_diff\n",
       "0                32      A            195\n",
       "1                32      A             90\n",
       "2                32      A            463\n",
       "3                32      A            322\n",
       "4                32      A            227\n",
       "...             ...    ...            ...\n",
       "419995         1024      G              0\n",
       "419996         1024      G              1\n",
       "419997         1024      G              0\n",
       "419998         1024      G              0\n",
       "419999         1024      G              1\n",
       "\n",
       "[420000 rows x 3 columns]"
      ]
     },
     "execution_count": 10,
     "metadata": {},
     "output_type": "execute_result"
    }
   ],
   "source": [
    "tall_df = pd.melt(testing_df, id_vars=['cardinality'],\n",
    "                  value_vars=splitter.func_dict.keys(),\n",
    "                  var_name='method', value_name='absolute_diff')\n",
    "tall_df"
   ]
  },
  {
   "cell_type": "markdown",
   "metadata": {},
   "source": [
    "#### Plot\n",
    "Seaborn's `lineplot()` method is an appropriate choice.  This method will plot the mean of the data, and can automatically show variation from the mean in a number of ways.  As we are probably most interested in how confident we are in the predicted mean values, 95% confidence intervals have been chosen (rather than standard deviations)."
   ]
  },
  {
   "cell_type": "code",
   "execution_count": 11,
   "metadata": {},
   "outputs": [
    {
     "data": {
      "image/png": "[encoded data removed]",
      "text/plain": [
       "<Figure size 864x648 with 1 Axes>"
      ]
     },
     "metadata": {},
     "output_type": "display_data"
    }
   ],
   "source": [
    "fig, ax = plt.subplots(figsize=(12, 9), facecolor='white')\n",
    "ax = sns.lineplot(data=tall_df, x='cardinality', y='absolute_diff', hue='method', ci=95)\n",
    "ax.set_xlabel('multiset cardinality')\n",
    "ax.set_xscale('log', base=2)\n",
    "ax.set_ylabel('mean absolute partition difference')\n",
    "ax.set_yscale('log')\n",
    "# Put legend outside plot\n",
    "ax.legend(bbox_to_anchor=(1.02, 1), loc='upper left', borderaxespad=0)\n",
    "# Underscore assignment to supress Text object output\n",
    "_ = ax.set_title(f'Comparison of multiset splitting methods ({REPEATS} repeats)')"
   ]
  },
  {
   "cell_type": "markdown",
   "metadata": {},
   "source": [
    "Both of the above steps can be conveniently run by calling the `seaborn_plot()` method from `partition_problem.py`.  The inputs to this function are simply the raw result dictionary list, and the list of cardinality values used to generate the results:\n",
    "\n",
    "```python\n",
    "fig = seaborn_plot(results=testing_results, repeats=REPEATS)\n",
    "```"
   ]
  },
  {
   "cell_type": "markdown",
   "metadata": {},
   "source": [
    "### Plotting with pandas\n",
    "This is a bit more 'DIY' than using Seaborn.\n",
    "\n",
    "We will use the `groupby()` method of the `pandas.DataFrame` to aggregate the results by cardinality, and generate corresponding statistical values (*mean*, *std*).\n",
    "\n",
    "This grouped form can then be easily used to plot with."
   ]
  },
  {
   "cell_type": "markdown",
   "metadata": {},
   "source": [
    "#### Group the data"
   ]
  },
  {
   "cell_type": "code",
   "execution_count": 12,
   "metadata": {},
   "outputs": [
    {
     "data": {
      "text/html": [
       "<div>\n",
       "<style scoped>\n",
       "    .dataframe tbody tr th:only-of-type {\n",
       "        vertical-align: middle;\n",
       "    }\n",
       "\n",
       "    .dataframe tbody tr th {\n",
       "        vertical-align: top;\n",
       "    }\n",
       "\n",
       "    .dataframe thead th {\n",
       "        text-align: right;\n",
       "    }\n",
       "</style>\n",
       "<table border=\"1\" class=\"dataframe\">\n",
       "  <thead>\n",
       "    <tr style=\"text-align: right;\">\n",
       "      <th></th>\n",
       "      <th></th>\n",
       "      <th>mean</th>\n",
       "      <th>std</th>\n",
       "    </tr>\n",
       "    <tr>\n",
       "      <th>cardinality</th>\n",
       "      <th>method</th>\n",
       "      <th></th>\n",
       "      <th></th>\n",
       "    </tr>\n",
       "  </thead>\n",
       "  <tbody>\n",
       "    <tr>\n",
       "      <th rowspan=\"5\" valign=\"top\">32</th>\n",
       "      <th>A</th>\n",
       "      <td>417.1434</td>\n",
       "      <td>315.032901</td>\n",
       "    </tr>\n",
       "    <tr>\n",
       "      <th>B</th>\n",
       "      <td>835.5898</td>\n",
       "      <td>632.621641</td>\n",
       "    </tr>\n",
       "    <tr>\n",
       "      <th>C</th>\n",
       "      <td>107.0974</td>\n",
       "      <td>75.873346</td>\n",
       "    </tr>\n",
       "    <tr>\n",
       "      <th>D</th>\n",
       "      <td>53.2330</td>\n",
       "      <td>38.639325</td>\n",
       "    </tr>\n",
       "    <tr>\n",
       "      <th>E</th>\n",
       "      <td>154.6836</td>\n",
       "      <td>27.448644</td>\n",
       "    </tr>\n",
       "    <tr>\n",
       "      <th>...</th>\n",
       "      <th>...</th>\n",
       "      <td>...</td>\n",
       "      <td>...</td>\n",
       "    </tr>\n",
       "    <tr>\n",
       "      <th rowspan=\"5\" valign=\"top\">1024</th>\n",
       "      <th>C</th>\n",
       "      <td>3442.7974</td>\n",
       "      <td>2437.622184</td>\n",
       "    </tr>\n",
       "    <tr>\n",
       "      <th>D</th>\n",
       "      <td>1725.2598</td>\n",
       "      <td>1211.461576</td>\n",
       "    </tr>\n",
       "    <tr>\n",
       "      <th>E</th>\n",
       "      <td>5116.2232</td>\n",
       "      <td>162.388149</td>\n",
       "    </tr>\n",
       "    <tr>\n",
       "      <th>F</th>\n",
       "      <td>7.7386</td>\n",
       "      <td>8.492083</td>\n",
       "    </tr>\n",
       "    <tr>\n",
       "      <th>G</th>\n",
       "      <td>0.5042</td>\n",
       "      <td>0.500007</td>\n",
       "    </tr>\n",
       "  </tbody>\n",
       "</table>\n",
       "<p>42 rows × 2 columns</p>\n",
       "</div>"
      ],
      "text/plain": [
       "                         mean          std\n",
       "cardinality method                        \n",
       "32          A        417.1434   315.032901\n",
       "            B        835.5898   632.621641\n",
       "            C        107.0974    75.873346\n",
       "            D         53.2330    38.639325\n",
       "            E        154.6836    27.448644\n",
       "...                       ...          ...\n",
       "1024        C       3442.7974  2437.622184\n",
       "            D       1725.2598  1211.461576\n",
       "            E       5116.2232   162.388149\n",
       "            F          7.7386     8.492083\n",
       "            G          0.5042     0.500007\n",
       "\n",
       "[42 rows x 2 columns]"
      ]
     },
     "execution_count": 12,
     "metadata": {},
     "output_type": "execute_result"
    }
   ],
   "source": [
    "# Group by cardinality and method\n",
    "group = tall_df.groupby(['cardinality', 'method'])\n",
    "# Dropping level 0 of axis 1 allows us to use 'mean' and 'std' as the column names\n",
    "# instead of ('absolute_diff', 'mean') and ('absolute_diff', 'std')\n",
    "stats_df = group.agg(['mean', 'std']).droplevel(axis=1, level=0)\n",
    "# Some of the seaborn code above\n",
    "stats_df"
   ]
  },
  {
   "cell_type": "markdown",
   "metadata": {},
   "source": [
    "#### Plot\n",
    "We will iterate over (using `group()` again) each method, and add a plot to the axis.  The `pandas` plot will show error bars (not area) by default and, as we have calculated standard deviation in the initial aggregation, we will plot that instead of the 95% confidence interval."
   ]
  },
  {
   "cell_type": "code",
   "execution_count": 13,
   "metadata": {},
   "outputs": [
    {
     "data": {
      "image/png": "[encoded data removed]",
      "text/plain": [
       "<Figure size 864x648 with 1 Axes>"
      ]
     },
     "metadata": {},
     "output_type": "display_data"
    }
   ],
   "source": [
    "fig, ax = plt.subplots(figsize=(12, 9), facecolor='white')\n",
    "# Iterate over each method and add the data to the plot\n",
    "for key, group in stats_df.groupby('method'):\n",
    "    group.reset_index(inplace=True)\n",
    "    group.plot('cardinality', 'mean', yerr='std', label=key, ax=ax)\n",
    "ax.set_xlabel('multiset cardinality')\n",
    "ax.set_xscale('log', base=2)\n",
    "ax.set_ylabel('mean absolute partition difference')\n",
    "ax.set_yscale('log')\n",
    "# Put legend outside plot\n",
    "ax.legend(bbox_to_anchor=(1.02, 1), loc='upper left', borderaxespad=0)\n",
    "# Underscore assignment to supress Text object output\n",
    "_ = ax.set_title(f'Comparison of multiset splitting methods ({REPEATS} repeats)')"
   ]
  },
  {
   "cell_type": "markdown",
   "metadata": {},
   "source": [
    "Again, this functionality can be easily accessed by using the `pandas_plot()` method from `partition_problem.py`:\n",
    "\n",
    "```python\n",
    "fig = pandas_plot(results=testing_results, repeats=REPEATS)\n",
    "```"
   ]
  },
  {
   "cell_type": "markdown",
   "metadata": {},
   "source": [
    "### References\n",
    "[1] https://www.ijcai.org/Proceedings/09/Papers/096.pdf\n",
    "\n",
    "### Resources used but not directly referenced\n",
    "- https://en.wikipedia.org/wiki/Partition_problem\n",
    "- https://pandasguide.readthedocs.io/en/latest/\n",
    "- https://peps.python.org/pep-0008/\n",
    "- https://seaborn.pydata.org/api.html\n",
    "- https://en.wikipedia.org/wiki/Timsort"
   ]
  }
 ],
 "metadata": {
  "interpreter": {
   "hash": "234372afb06e39c9937c8e8b8bcb51cd036d89122c0bbbb520553b9ebad79899"
  },
  "kernelspec": {
   "display_name": "Python 3.10.4 ('partition-problem')",
   "language": "python",
   "name": "python3"
  },
  "language_info": {
   "codemirror_mode": {
    "name": "ipython",
    "version": 3
   },
   "file_extension": ".py",
   "mimetype": "text/x-python",
   "name": "python",
   "nbconvert_exporter": "python",
   "pygments_lexer": "ipython3",
   "version": "3.10.4"
  },
  "orig_nbformat": 4
 },
 "nbformat": 4,
 "nbformat_minor": 2
}
